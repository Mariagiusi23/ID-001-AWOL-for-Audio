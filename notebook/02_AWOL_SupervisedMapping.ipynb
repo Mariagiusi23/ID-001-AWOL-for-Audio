{
  "cells": [
    {
      "cell_type": "markdown",
      "metadata": {
        "id": "view-in-github",
        "colab_type": "text"
      },
      "source": [
        "<a href=\"https://colab.research.google.com/github/Mariagiusi23/ID-001-AWOL-for-Audio/blob/main/notebook/02_AWOL_SupervisedMapping.ipynb\" target=\"_parent\"><img src=\"https://colab.research.google.com/assets/colab-badge.svg\" alt=\"Open In Colab\"/></a>"
      ]
    },
    {
      "cell_type": "markdown",
      "metadata": {
        "id": "hUbuogtP8Z5h"
      },
      "source": [
        "#**🎯 STEP 1 — Supervised Dataset: Prompt → Target FM Parameters**"
      ]
    },
    {
      "cell_type": "markdown",
      "metadata": {
        "id": "D06STsnw8Z5i"
      },
      "source": [
        "**📍 1.1 — Define manual dataset (normalized to [0, 1])**"
      ]
    },
    {
      "cell_type": "code",
      "execution_count": null,
      "metadata": {
        "id": "IEhuixEE8Z5i"
      },
      "outputs": [],
      "source": [
        "train_data = [\n",
        "    {\"prompt\": \"a high whistle\",         \"params\": [0.888, 0.889, 0.95, 0.67]},\n",
        "    {\"prompt\": \"a deep rumbling drone\",  \"params\": [0.022, 0.044, 0.60, 0.56]},\n",
        "    {\"prompt\": \"a mellow flute tone\",    \"params\": [0.378, 0.133, 0.35, 0.44]},\n",
        "    {\"prompt\": \"a robotic beep\",         \"params\": [0.555, 0.333, 0.80, 0.56]},\n",
        "    {\"prompt\": \"a soft crackling fire\",  \"params\": [0.167, 0.022, 0.75, 0.33]}\n",
        "]"
      ]
    },
    {
      "cell_type": "markdown",
      "metadata": {
        "id": "saDqbTsJ8Z5i"
      },
      "source": [
        "**📍 1.2 — Compute CLAP embeddings and build training tensors**"
      ]
    },
    {
      "cell_type": "code",
      "execution_count": null,
      "metadata": {
        "id": "4Vp8WWiQ8Z5i"
      },
      "outputs": [],
      "source": [
        "import torch\n",
        "from transformers import AutoProcessor, ClapModel\n",
        "\n",
        "# Load CLAP model and processor (same as baseline)\n",
        "device = torch.device(\"cuda\" if torch.cuda.is_available() else \"cpu\")\n",
        "model_clap = ClapModel.from_pretrained(\"laion/clap-htsat-unfused\").to(device)\n",
        "processor = AutoProcessor.from_pretrained(\"laion/clap-htsat-unfused\")\n",
        "\n",
        "# Extract embeddings and targets\n",
        "embeddings = []\n",
        "targets = []\n",
        "\n",
        "for example in train_data:\n",
        "    inputs = processor(text=example[\"prompt\"], return_tensors=\"pt\").to(device)\n",
        "    with torch.no_grad():\n",
        "        emb = model_clap.get_text_features(**inputs).squeeze()\n",
        "    embeddings.append(emb)\n",
        "    targets.append(torch.tensor(example[\"params\"]))\n",
        "\n",
        "# Stack into training tensors\n",
        "X = torch.stack(embeddings)\n",
        "y = torch.stack(targets)\n",
        "\n",
        "print(\"✅ Training data prepared:\")\n",
        "print(\"X shape:\", X.shape)\n",
        "print(\"y shape:\", y.shape)"
      ]
    },
    {
      "cell_type": "markdown",
      "metadata": {
        "id": "85AzrzIH8Z5j"
      },
      "source": [
        "#**🎯 STEP 2 — Train the MLP on the Supervised Data**"
      ]
    },
    {
      "cell_type": "markdown",
      "metadata": {
        "id": "obbsKaCU8Z5j"
      },
      "source": [
        "**📍 2.1 — Define model, loss function, optimizer**"
      ]
    },
    {
      "cell_type": "code",
      "execution_count": null,
      "metadata": {
        "id": "LM2RDK1O8Z5j"
      },
      "outputs": [],
      "source": [
        "import torch.nn as nn\n",
        "\n",
        "class EmbedToParams(nn.Module):\n",
        "    def __init__(self):\n",
        "        super().__init__()\n",
        "        self.net = nn.Sequential(\n",
        "            nn.Linear(512, 256),\n",
        "            nn.ReLU(),\n",
        "            nn.Linear(256, 128),\n",
        "            nn.ReLU(),\n",
        "            nn.Linear(128, 4),\n",
        "            nn.Sigmoid()\n",
        "        )\n",
        "\n",
        "    def forward(self, x):\n",
        "        return self.net(x)\n",
        "\n",
        "model = EmbedToParams().to(device)\n",
        "loss_fn = nn.MSELoss()\n",
        "optimizer = torch.optim.Adam(model.parameters(), lr=1e-3)"
      ]
    },
    {
      "cell_type": "markdown",
      "metadata": {
        "id": "djFR2dmF8Z5j"
      },
      "source": [
        "**📍 2.2 — Training loop**"
      ]
    },
    {
      "cell_type": "code",
      "execution_count": null,
      "metadata": {
        "id": "pFgWLFgx8Z5j"
      },
      "outputs": [],
      "source": [
        "n_epochs = 300\n",
        "model.train()\n",
        "\n",
        "for epoch in range(n_epochs):\n",
        "    optimizer.zero_grad()\n",
        "    preds = model(X.to(device))\n",
        "    loss = loss_fn(preds, y.to(device))\n",
        "    loss.backward()\n",
        "    optimizer.step()\n",
        "\n",
        "    if (epoch + 1) % 50 == 0 or epoch == 0:\n",
        "        print(f\"Epoch {epoch+1}/{n_epochs} — Loss: {loss.item():.6f}\")\n",
        "\n",
        "print(\"✅ Training complete.\")\n"
      ]
    },
    {
      "cell_type": "markdown",
      "metadata": {
        "id": "K5Tbx7OL8Z5j"
      },
      "source": [
        "#**🎯 STEP 3 — Evaluate the Trained Model**"
      ]
    },
    {
      "cell_type": "markdown",
      "metadata": {
        "id": "DigVn94e8Z5j"
      },
      "source": [
        "**📍 3.1 — Generate sound from trained model predictions**"
      ]
    },
    {
      "cell_type": "code",
      "execution_count": null,
      "metadata": {
        "id": "HKdxj8k28Z5j"
      },
      "outputs": [],
      "source": [
        "from scipy.signal import spectrogram\n",
        "import matplotlib.pyplot as plt\n",
        "import numpy as np\n",
        "from IPython.display import Audio, display\n",
        "import math\n",
        "\n",
        "\n",
        "def synthesize(p, sr=16000, duration=2.0):\n",
        "    t = torch.linspace(0, duration, int(sr * duration))\n",
        "    carrier, modulator, index, amplitude = p\n",
        "    mod_signal = torch.sin(2 * math.pi * modulator * t)\n",
        "    signal = amplitude * torch.sin(2 * math.pi * carrier * t + index * mod_signal)\n",
        "    return signal\n",
        "\n",
        "\n",
        "def generate_audio(prompt, model, processor, clap_model, sr=16000, duration=0.1):\n",
        "    inputs = processor(text=prompt, return_tensors=\"pt\").to(clap_model.device)\n",
        "    with torch.no_grad():\n",
        "        embedding = clap_model.get_text_features(**inputs)\n",
        "        raw_p = model(embedding).squeeze()\n",
        "\n",
        "    # Rescale to real-world FM ranges\n",
        "    carrier    = 100 + 900 * raw_p[0]\n",
        "    modulator  = 50 + 450 * raw_p[1]\n",
        "    index      = 10 * raw_p[2]\n",
        "    amplitude  = 0.9 * raw_p[3]\n",
        "    p = [carrier.item(), modulator.item(), index.item(), amplitude.item()]\n",
        "\n",
        "    signal = synthesize(p, sr=sr, duration=duration)\n",
        "    signal_np = signal.numpy()\n",
        "\n",
        "    print(f\"Prompt: {prompt}\")\n",
        "    print(f\"  Carrier freq:   {p[0]:.2f} Hz\")\n",
        "    print(f\"  Modulator freq: {p[1]:.2f} Hz\")\n",
        "    print(f\"  Modulation idx: {p[2]:.2f}\")\n",
        "    print(f\"  Amplitude:      {p[3]:.2f}\")\n",
        "\n",
        "    # Plot only the first 0.1 seconds of the waveform\n",
        "    plot_duration = 0.1\n",
        "    plot_samples = int(sr * plot_duration)\n",
        "    time_axis = np.linspace(0, plot_duration, num=plot_samples)\n",
        "    plt.figure(figsize=(10, 3))\n",
        "    plt.plot(time_axis, signal_np[:plot_samples], linewidth=0.3, color='black')\n",
        "    plt.title(\"Waveform (first 0.1s)\")\n",
        "    plt.xlabel(\"Time (s)\")\n",
        "    plt.ylabel(\"Amplitude\")\n",
        "    plt.tight_layout()\n",
        "    plt.show()\n",
        "\n",
        "    f, t_spec, Sxx = spectrogram(signal_np, fs=sr, nperseg=512)\n",
        "    plt.figure(figsize=(10, 4))\n",
        "    plt.imshow(10 * np.log10(Sxx + 1e-8), aspect='auto', origin='lower',\n",
        "               extent=[t_spec.min(), t_spec.max(), f.min(), f.max()], cmap='viridis')\n",
        "    plt.title(\"Spectrogram (dB)\")\n",
        "    plt.colorbar(label=\"dB\")\n",
        "    plt.tight_layout()\n",
        "    plt.show()\n",
        "\n",
        "    return Audio(signal_np, rate=sr)"
      ]
    },
    {
      "cell_type": "markdown",
      "metadata": {
        "id": "7vDMCrrH8Z5k"
      },
      "source": [
        "**📍 3.2 — Test the trained model on the training prompts**"
      ]
    },
    {
      "cell_type": "code",
      "execution_count": null,
      "metadata": {
        "id": "UacELUEy8Z5k"
      },
      "outputs": [],
      "source": [
        "for example in train_data:\n",
        "    display(generate_audio(example[\"prompt\"], model, processor, model_clap, duration=2.0))\n"
      ]
    },
    {
      "cell_type": "markdown",
      "metadata": {
        "id": "0QG_dST08Z5k"
      },
      "source": [
        "**📍 3.3 — Test the model on out-of-sample prompts**"
      ]
    },
    {
      "cell_type": "code",
      "execution_count": null,
      "metadata": {
        "id": "DVGLKsXp8Z5k"
      },
      "outputs": [],
      "source": [
        "test_prompts = [\n",
        "    \"a sharp bell tone\",\n",
        "    \"a thunderous boom\",\n",
        "    \"a gentle whisper\",\n",
        "    \"an alien pulse\",\n",
        "    \"a mechanical grinding\"\n",
        "]\n",
        "\n",
        "for prompt in test_prompts:\n",
        "    display(generate_audio(prompt, model, processor, model_clap, duration=2.0))"
      ]
    },
    {
      "cell_type": "markdown",
      "metadata": {
        "id": "DpTEfFg18Z5k"
      },
      "source": [
        "#**🎯 STEP 4 — Visual Analysis**"
      ]
    },
    {
      "cell_type": "markdown",
      "metadata": {
        "id": "sdlH7t388Z5k"
      },
      "source": [
        "**📍 4.1 — Plot of predicted FM parameters across prompts**"
      ]
    },
    {
      "cell_type": "code",
      "execution_count": null,
      "metadata": {
        "id": "2jiaqdHe8Z5l"
      },
      "outputs": [],
      "source": [
        "visual_prompts = [\n",
        "    \"a soft bell\",\n",
        "    \"a harsh buzzer\",\n",
        "    \"a bright synth tone\",\n",
        "    \"a metallic clang\",\n",
        "    \"a digital chime\"\n",
        "]\n",
        "\n",
        "predicted_params = []\n",
        "\n",
        "for prompt in visual_prompts:\n",
        "    inputs = processor(text=prompt, return_tensors=\"pt\").to(device)\n",
        "    with torch.no_grad():\n",
        "        emb = model_clap.get_text_features(**inputs)\n",
        "        raw_p = model(emb).squeeze()\n",
        "\n",
        "    carrier = 100 + 900 * raw_p[0]\n",
        "    modulator = 50 + 450 * raw_p[1]\n",
        "    index = 10 * raw_p[2]\n",
        "    amplitude = 0.9 * raw_p[3]\n",
        "    predicted_params.append([carrier.item(), modulator.item(), index.item(), amplitude.item()])\n",
        "\n",
        "predicted_params = np.array(predicted_params)\n",
        "\n",
        "plt.figure(figsize=(10, 5))\n",
        "for i, label in enumerate([\"Carrier\", \"Modulator\", \"Index\", \"Amplitude\"]):\n",
        "    plt.plot(predicted_params[:, i], label=label, marker='o')\n",
        "\n",
        "plt.xticks(ticks=range(len(visual_prompts)), labels=visual_prompts, rotation=30)\n",
        "plt.ylabel(\"Value\")\n",
        "plt.title(\"Predicted FM parameters across prompts\")\n",
        "plt.grid(True)\n",
        "plt.legend()\n",
        "plt.tight_layout()\n",
        "plt.show()\n"
      ]
    },
    {
      "cell_type": "markdown",
      "metadata": {
        "id": "cz4JSJrq8Z5l"
      },
      "source": [
        "**📍 4.2 — Visualize CLAP embedding of a prompt**"
      ]
    },
    {
      "cell_type": "code",
      "execution_count": null,
      "metadata": {
        "id": "LQGoWoYy8Z5l"
      },
      "outputs": [],
      "source": [
        "prompt = \"a soft metallic ringing\"\n",
        "inputs = processor(text=prompt, return_tensors=\"pt\").to(device)\n",
        "with torch.no_grad():\n",
        "    embedding = model_clap.get_text_features(**inputs)\n",
        "\n",
        "plt.figure(figsize=(12, 2))\n",
        "plt.plot(embedding.cpu().numpy().flatten())\n",
        "plt.title(f\"CLAP Embedding for: \\\"{prompt}\\\"\")\n",
        "plt.grid(True)\n",
        "plt.show()"
      ]
    },
    {
      "cell_type": "markdown",
      "metadata": {
        "id": "D6YXzj9Q8Z5l"
      },
      "source": [
        "# **🎯 STEP 5 — Final Remarks**"
      ]
    },
    {
      "cell_type": "markdown",
      "metadata": {
        "id": "dWnJ8UzZ8Z5l"
      },
      "source": [
        "**📍 5.1 — Summary**\n",
        "\n",
        "This notebook extends the AWOL baseline by introducing a supervised learning stage.  \n",
        "A lightweight MLP is trained to map CLAP text embeddings to FM synthesis parameters using a small manually annotated dataset of five prompt–parameter pairs.\n",
        "\n",
        "The training converges rapidly, with a final MSE loss of approximately $2 \\cdot 10^{-5}$.  \n",
        "The model is able to accurately reproduce the target parameters and generates semantically meaningful and perceptually distinct sounds for each prompt.\n",
        "\n",
        "Tests on out-of-sample prompts such as **\"a sharp bell tone\"**, **\"a thunderous boom\"**, and **\"an alien pulse\"** show that the model generalizes reasonably well.  \n",
        "The predicted FM parameters vary in a plausible and interpretable way:\n",
        "\n",
        "- Carrier frequency ranges from $\\sim 200$ Hz to $\\sim 600$ Hz  \n",
        "- Modulation index varies based on the described sonic character  \n",
        "- Amplitude remains stable and realistic\n",
        "\n",
        "This supervised mapping effectively overcomes the limitations of the naive baseline, demonstrating that even minimal supervision enables expressive and controllable text-to-sound generation."
      ]
    },
    {
      "cell_type": "code",
      "source": [
        "torch.save(model.state_dict(), \"mlp_baseline_model.pt\")"
      ],
      "metadata": {
        "id": "SXlJ5Gb8UPMf"
      },
      "execution_count": null,
      "outputs": []
    }
  ],
  "metadata": {
    "colab": {
      "provenance": [],
      "include_colab_link": true
    },
    "language_info": {
      "name": "python"
    },
    "kernelspec": {
      "name": "python3",
      "display_name": "Python 3"
    }
  },
  "nbformat": 4,
  "nbformat_minor": 0
}